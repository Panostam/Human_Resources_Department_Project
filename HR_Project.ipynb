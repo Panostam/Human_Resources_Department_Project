{
 "cells": [
  {
   "cell_type": "markdown",
   "metadata": {},
   "source": [
    "# **Machine learning model for predicting which employees of a company are more likely to quit in the future.**\n",
    "\n"
   ]
  },
  {
   "cell_type": "markdown",
   "metadata": {},
   "source": [
    "Development of a simple model that could predict which employees of a company are more likely to quit in the future. This project is organized as follows: (a) data processing and exploratory data analysis (b) logistic regression model, (c) random forest classifier model, (d) deep learning model."
   ]
  },
  {
   "cell_type": "markdown",
   "metadata": {},
   "source": [
    "* Hiring and retaining employees are extremely complex tasks that require capital, time and skill.\n",
    "* \"Small business owners spend 40% of their working hours on tasks that do not generate any income such as hiring\".\n",
    "* \"Companies spend 15%-25% of the employee's salary to recruit a new candidate\".\n",
    "* \"An average company loses anywhere between 1% and 2.5% of their total revenue on the time it takes to bring a new hire up to speed\".\n",
    "* Hiring a new employee costs an average of 7645 dollars(0-500 corporation).\n",
    "* It takes 52 days on average to fill a position.\n",
    "\n",
    "Source: https://toggl.com/blog/cost-of-hiring-an-employee"
   ]
  },
  {
   "cell_type": "markdown",
   "metadata": {},
   "source": [
    "#####  The HR team of the company collected extensive data on their employees and requested the development of a model that could predict which employees are more likely to quit."
   ]
  },
  {
   "cell_type": "markdown",
   "metadata": {},
   "source": [
    "## 0. Import the required libraries"
   ]
  },
  {
   "cell_type": "code",
   "execution_count": 3,
   "metadata": {},
   "outputs": [],
   "source": [
    "import pandas as pd\n",
    "import numpy as np\n",
    "import seaborn as sns\n",
    "import matplotlib.pyplot as plt"
   ]
  },
  {
   "cell_type": "code",
   "execution_count": null,
   "metadata": {},
   "outputs": [],
   "source": []
  },
  {
   "cell_type": "code",
   "execution_count": null,
   "metadata": {},
   "outputs": [],
   "source": []
  }
 ],
 "metadata": {
  "kernelspec": {
   "display_name": "Python 3",
   "language": "python",
   "name": "python3"
  },
  "language_info": {
   "codemirror_mode": {
    "name": "ipython",
    "version": 3
   },
   "file_extension": ".py",
   "mimetype": "text/x-python",
   "name": "python",
   "nbconvert_exporter": "python",
   "pygments_lexer": "ipython3",
   "version": "3.8.3"
  }
 },
 "nbformat": 4,
 "nbformat_minor": 4
}
